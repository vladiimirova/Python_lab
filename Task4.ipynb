{
 "cells": [
  {
   "cell_type": "code",
   "execution_count": 5,
   "metadata": {},
   "outputs": [],
   "source": [
    "def is_prime(n):\n",
    "    \"\"\"Перевіряє, чи є число простим.\"\"\"\n",
    "    if n <= 1:\n",
    "        return False\n",
    "    if n <= 3:\n",
    "        return True\n",
    "    if n % 2 == 0 or n % 3 == 0:\n",
    "        return False\n",
    "    i = 5\n",
    "    while i * i <= n:\n",
    "        if n % i == 0 or n % (i + 2) == 0:\n",
    "            return False\n",
    "        i += 6\n",
    "    return True\n",
    "\n",
    "def goldbach_conjecture(n):\n",
    "    \"\"\"Перевіряє гіпотезу Гольдбаха для парного числа n.\"\"\"\n",
    "    if not isinstance(n, int):\n",
    "        return \"Помилка: Значення має бути цілим числом.\"\n",
    "    if n <= 2:\n",
    "        return \"Помилка: Значення має бути парним числом більше 2.\"\n",
    "    if n % 2 != 0:\n",
    "        return \"Помилка: Значення має бути парним числом.\"\n",
    "\n",
    "    for i in range(2, n // 2 + 1):\n",
    "        if is_prime(i) and is_prime(n - i):\n",
    "            return f\"Число {n} можна представити як {i} + {n - i}\"\n",
    "    \n",
    "    return \"Не вдалося знайти таку пару простих чисел.\"\n",
    "\n"
   ]
  },
  {
   "cell_type": "code",
   "execution_count": 4,
   "metadata": {},
   "outputs": [
    {
     "name": "stdout",
     "output_type": "stream",
     "text": [
      "Число 6 можна представити як 3 + 3\n",
      "Число 28 можна представити як 5 + 23\n",
      "Число 10 можна представити як 3 + 7\n",
      "Помилка: Значення має бути цілим числом.\n",
      "Помилка: Значення має бути парним числом більше 2.\n"
     ]
    }
   ],
   "source": [
    "# Тестові приклади\n",
    "\n",
    "# Тест 1\n",
    "print(goldbach_conjecture(6))  # Очікуваний результат: Число 6 можна представити як 3 + 3\n",
    "\n",
    "# Тест 2\n",
    "print(goldbach_conjecture(28))  # Очікуваний результат: Число 28 можна представити як 5 + 23\n",
    "\n",
    "# Тест 3\n",
    "print(goldbach_conjecture(10))  # Очікуваний результат: Число 10 можна представити як 3 + 7\n",
    "\n",
    "# Тест 4 (з помилкою)\n",
    "print(goldbach_conjecture(\"text\"))  # Очікуваний результат: Помилка: Значення має бути цілим числом.\n",
    "\n",
    "# Тест 5 (з помилкою)\n",
    "print(goldbach_conjecture(1))  # Очікуваний результат: Помилка: Значення має бути парним числом більше 2.\n"
   ]
  }
 ],
 "metadata": {
  "kernelspec": {
   "display_name": "Python 3",
   "language": "python",
   "name": "python3"
  },
  "language_info": {
   "codemirror_mode": {
    "name": "ipython",
    "version": 3
   },
   "file_extension": ".py",
   "mimetype": "text/x-python",
   "name": "python",
   "nbconvert_exporter": "python",
   "pygments_lexer": "ipython3",
   "version": "3.9.6"
  }
 },
 "nbformat": 4,
 "nbformat_minor": 2
}
